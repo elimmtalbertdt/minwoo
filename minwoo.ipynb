{
  "nbformat": 4,
  "nbformat_minor": 0,
  "metadata": {
    "colab": {
      "provenance": [],
      "authorship_tag": "ABX9TyNn0iZHy5twe9QAvTwm/iro",
      "include_colab_link": true
    },
    "kernelspec": {
      "name": "python3",
      "display_name": "Python 3"
    },
    "language_info": {
      "name": "python"
    }
  },
  "cells": [
    {
      "cell_type": "markdown",
      "metadata": {
        "id": "view-in-github",
        "colab_type": "text"
      },
      "source": [
        "<a href=\"https://colab.research.google.com/github/elimmtalbertdt/minwoo/blob/main/minwoo.ipynb\" target=\"_parent\"><img src=\"https://colab.research.google.com/assets/colab-badge.svg\" alt=\"Open In Colab\"/></a>"
      ]
    },
    {
      "cell_type": "code",
      "execution_count": 1,
      "metadata": {
        "colab": {
          "base_uri": "https://localhost:8080/"
        },
        "id": "270Fhcj3aiau",
        "outputId": "76ba1c73-0231-46da-f19c-763caa92d782"
      },
      "outputs": [
        {
          "output_type": "stream",
          "name": "stdout",
          "text": [
            "====================================================================== \n",
            "Welcome to the Python Quiz. Can you guess all 10 questions? \n",
            "Before we start, please input your name in! \n",
            "\n",
            "\n",
            "\n",
            "\n",
            "\n",
            "\n",
            "============================== \n",
            "Come on. Why quit now? (｡•̀ᴗ-)✧\n",
            "============================== \n",
            "\n",
            "\n",
            "\n",
            "\n",
            "\n"
          ]
        }
      ],
      "source": [
        "\n",
        "q_border, a_border = \"=\", \"-\" # variable that separates questions and answers\n",
        "\n",
        "def python_quiz(): # function for whole quiz code\n",
        "    print(f'{q_border * 70} \\nWelcome to the Python Quiz. Can you guess all 10 questions? \\nBefore we start, please input your name in! \\n')\n",
        "\n",
        "    while True: # input name and loop if input includes numbers\n",
        "        name = input('Name: ').strip()\n",
        "        if name and not any(character.isdigit() for character in name):\n",
        "            print(f'\\nWelcome, {name.title()}! Let\\'s start this quiz. \\nPlease keep in mind that the given python examples include the whole code, not an individual line. \\n{q_border * 70}')\n",
        "            break\n",
        "        print('Please re-enter a valid name; the input must not be empty or contain integers. \\n')\n",
        "\n",
        "    score, attempts = 0, 0\n",
        "    indent = '    '\n",
        "\n",
        "    question_and_answers = [ # list (question, answer, question type)\n",
        "        (f'What integer would x first print in the following code? \\n \\nfor x in range(3): \\n{indent}print(x) ',\n",
        "         '0', 'type_number'), # Question 1\n",
        "\n",
        "        ('(Yes or No) Will the following Python code raise an error? \\n \\nname = \\'Sally\\' \\nage = 30 \\n \\nname += age \\n \\nprint(name)',\n",
        "         'Yes', 'type_yes_or_no'), # Question 2\n",
        "\n",
        "        ('Which of the following is the correct attribute? \\n \\n① .lowercase() \\n② .titlelize() \\n③ .split() \\n④ .capslock()',\n",
        "         '3', 'type_multiple'), # Question 3\n",
        "\n",
        "        ('Which of the following syntax prints \\'Hello, World!\\' in Python? \\n \\n① p(\\'Hello World!\\') \\n② print(\\'Hello, World!\\') \\n③ print(\"Hello, World!\\') \\n④ print(\\'Hello. World!\\')',\n",
        "         '2', 'type_multiple'), # Question 4\n",
        "\n",
        "        ('(Yes or No) Would the following syntax print correctly? \\n \\nprint(f\\'My name is {name} and I am {age} years old.\\')',\n",
        "         'No', 'type_yes_or_no'), # Question 5\n",
        "\n",
        "        ('What number does the following code output? \\n \\nprint(len(\\'Python\\'))',\n",
        "         '6', 'type_number'), # Question 6\n",
        "\n",
        "        (f'What is x\\'s final value when the code stops? \\n \\nx = 0 \\n \\nwhile x < 2: \\n{indent}x += 1 \\n \\nprint(x)',\n",
        "         '2', 'type_number'), # Question 7\n",
        "\n",
        "        (f'(Yes or No) Is the following Python function valid? \\n \\ndef user name(): \\n{indent}name = user_input(\\'What is your name?\\') \\n \\nuser name()',\n",
        "         'No', 'type_yes_or_no'), # Question 8\n",
        "\n",
        "        ('Which of the following loops forever? \\n \\n① for i in range(infinite): \\n② loop forever: \\n③ until True: \\n④ while True: ',\n",
        "         '4', 'type_multiple'), # Question 9\n",
        "\n",
        "        (f'(Yes or No) Will the following Python code print \\'Yes\\' when x reaches 10? \\n \\nx = 0 \\n \\nwhile True: \\n{indent}if x < 10: \\n{indent * 2}x += 1 \\n{indent}else: \\n{indent * 2}print(\\'Yes\\') \\n{indent * 2}break',\n",
        "         'Yes', 'type_yes_or_no'), # Question 10\n",
        "    ]\n",
        "\n",
        "    for question, answer, question_type in question_and_answers: # assign variable for tuple elements and repeat process for every question\n",
        "\n",
        "        attempts += 1\n",
        "\n",
        "        user_answer = input(f'\\n\\n\\n\\n\\n{q_border * 70} \\nQuestion {attempts}: \\n{question} \\n{a_border * 70} \\nAnswer: ').title()\n",
        "\n",
        "        valid = False # boolean variable to 'pass' the answer's validation\n",
        "        while not valid: # check the type of question and if user_answer is invalid, loop until valid answer type\n",
        "            user_answer = user_answer.strip()\n",
        "\n",
        "            if question_type == 'type_number':\n",
        "                try:\n",
        "                    valid = int(user_answer) >= 0\n",
        "                except ValueError:\n",
        "                    user_answer = input(f'\\nPlease input a valid integer that is 0 or above. \\nAnswer: ').title()\n",
        "\n",
        "            elif question_type == 'type_yes_or_no':\n",
        "                    valid = user_answer.strip() in ['Yes', 'No']\n",
        "                    if not valid:\n",
        "                        user_answer = input(f'\\nPlease input \\'Yes\\' or \\'No\\'. \\nAnswer: ').title()\n",
        "\n",
        "            elif question_type == 'type_multiple':\n",
        "                try:\n",
        "                    valid = 1 <= int(user_answer) <= 4\n",
        "                    if not valid:\n",
        "                        raise ValueError\n",
        "                except ValueError:\n",
        "                    user_answer = input(f'\\nPlease input a valid integer within the given options. \\nAnswer: ').title()\n",
        "\n",
        "        if user_answer == answer: # check if user_answer is correct or incorrect\n",
        "            print('\\nYou are Correct!')\n",
        "            score += 1\n",
        "        else:\n",
        "            print(f'\\nYou are Incorrect. The correct answer was {answer}. \\n')\n",
        "        print(f'Your score is {score} out of {attempts}. \\n{q_border * 70}') # print user's score and attempts\n",
        "\n",
        "    if attempts == 10 and score >= 5: #check if last question, return corresponding syntaxes to each results.\n",
        "        print(f'\\n  Congratulations, {name}! You scored {score} out of {attempts} and have passed the Python Quiz! ٩( ˃▿˂ )۶ \\n y\\n{q_border * 70}')\n",
        "\n",
        "    elif attempts == 10 and score < 5:\n",
        "        print(f'Nice Try {name}, but you only scored {score} out of {attempts} and have failed the Python Quiz. (◞ ‸ ◟|||) \\n \\n{q_border * 70}')\n",
        "\n",
        "try: # easter egg for keyboardInterrupt (quit during quiz)\n",
        "    python_quiz() # python quiz function\n",
        "except KeyboardInterrupt:\n",
        "    print(f'\\n\\n\\n\\n\\n{q_border * 30} \\nCome on. Why quit now? (｡•̀ᴗ-)✧\\n{q_border * 30} \\n\\n\\n\\n\\n')\n"
      ]
    }
  ]
}